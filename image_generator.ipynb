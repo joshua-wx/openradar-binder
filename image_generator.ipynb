{
 "cells": [
  {
   "cell_type": "markdown",
   "metadata": {},
   "source": [
    "### Openradar.io Historical Image Generator\n",
    "\n",
    "Please follow these steps to running this script\n",
    "\n",
    "1. Edit the configuration below. Stick to the basic options if you're unsure of the rest\n",
    "1. From the top menus select: 'Cell' -> 'Run All'\n",
    "1. A download link will print at the bottom of this notebook when the images are ready"
   ]
  },
  {
   "cell_type": "code",
   "execution_count": 1,
   "metadata": {},
   "outputs": [],
   "source": [
    "# BASIC CONFIGURATION\n",
    "rid   = '50'         # radar identification number (leading zero needed for single digits), string\n",
    "rdate = '2014/11/27' # date to start the image generation (format: YYYY/MM/DD), string\n",
    "rtime = '15:00'      # time to start the image generation (format: HH:MM), string\n",
    "rdur  = 0.5            # number of hours from start date/time for image generation (MUST NOT EXTEND TO THE NEXT DAY), integer\n",
    "prng  = 150          # number of kilometers from the radar site to plot, integer\n",
    "field = 'reflectivity'       # product to plot. Reflectivity = 'reflectivity', Doppler Velocity = 'velocity'\n",
    "                             # (Others/Polarimetric:differential_reflectivity, cross_correlation_ratio, specific_differential_phase, differential_phase, spectrum_width), string\n",
    "# MAP CONFIGURATION\n",
    "hide_place_names = [''] #list of placenames you wish to hide from the map (they are auto generated), list of string\n",
    "nice_radar_name = 'Marburg' #name of radar to use for title, string\n",
    "nice_colorbar_name = field #name to use for colorbar\n",
    "range_ring_list = [50, 100] #list of range ring disances from the radar site (km), list of numbers\n",
    "\n",
    "# ADVANCED CONFIGURATION\n",
    "tilt     = 1                      # PPI index in volume to plot, first/lowest PPI is number 0, integer\n",
    "# ADVANCED CONFIGURATION - Reflectivity\n",
    "vmin_ref = 20                     # minimum of colourmap (values less than will be removed), integer\n",
    "vmax_ref = 65                     # maximum of colormap (values greater than will be removed), integer\n",
    "cmap_ref = 'pyart_HomeyerRainbow' # colormap to use. Another option is 'pyart_NWSRef' for more see https://arm-doe.github.io/pyart/API/generated/pyart.graph.html, string\n",
    "# ADVANCED CONFIGURATION - Doppler Velocity\n",
    "vmin_vel =-26                     # minimum of colormap, integer\n",
    "vmax_vel = 26                     # maximum of colormap, integer\n",
    "cmap_vel = 'pyart_BuDRd18'        # colormap to use, string\n",
    "# ADVANCED CONFIGURATION - Other/Polarimetric\n",
    "vmin_pol = -1                     # minimum of colormap, integer\n",
    "vmax_pol = 5                      # maximum of colormap, integer\n",
    "cmap_pol = 'pyart_HomeyerRainbow' # olormap to use, string"
   ]
  },
  {
   "cell_type": "code",
   "execution_count": 2,
   "metadata": {},
   "outputs": [
    {
     "name": "stdout",
     "output_type": "stream",
     "text": [
      "\n",
      "## You are using the Python ARM Radar Toolkit (Py-ART), an open source\n",
      "## library for working with weather radar data. Py-ART is partly\n",
      "## supported by the U.S. Department of Energy as part of the Atmospheric\n",
      "## Radiation Measurement (ARM) Climate Research Facility, an Office of\n",
      "## Science user facility.\n",
      "##\n",
      "## If you use this software to prepare a publication, please cite:\n",
      "##\n",
      "##     JJ Helmus and SM Collis, JORS 2016, doi: 10.5334/jors.119\n",
      "\n",
      "Fetching: http://dapds00.nci.org.au/thredds/fileServer/rq0/50/2014/vol/50_20141127.pvol.zip\n"
     ]
    },
    {
     "name": "stderr",
     "output_type": "stream",
     "text": [
      "  0%|          | 0/3 [00:00<?, ?it/s]"
     ]
    },
    {
     "name": "stdout",
     "output_type": "stream",
     "text": [
      "Generating Images\n"
     ]
    },
    {
     "name": "stderr",
     "output_type": "stream",
     "text": [
      "100%|██████████| 3/3 [00:08<00:00,  3.00s/it]\n"
     ]
    },
    {
     "data": {
      "text/html": [
       "Click here to download: <a href='./images/50_2014-11-27.image_request.16-04-2020_12:33:19.zip' target='_blank'>./images/50_2014-11-27.image_request.16-04-2020_12:33:19.zip</a><br>"
      ],
      "text/plain": [
       "/home/meso/dev/openradar-binder/images/50_2014-11-27.image_request.16-04-2020_12:33:19.zip"
      ]
     },
     "metadata": {},
     "output_type": "display_data"
    }
   ],
   "source": [
    "import core\n",
    "\n",
    "cdict = {\n",
    "    'rid':rid, 'rdate':rdate, 'rtime':rtime, 'rdur':rdur, 'prng':prng, 'field':field,\n",
    "    'hide_place_names':hide_place_names,'nice_radar_name':nice_radar_name, 'range_ring_list':range_ring_list,\n",
    "    'tilt':tilt,\n",
    "    'vmin_ref':vmin_ref, 'vmax_ref':vmax_ref, 'cmap_ref':cmap_ref,\n",
    "    'vmin_vel':vmin_vel, 'vmax_vel':vmax_vel, 'cmap_vel':cmap_vel,\n",
    "    'vmin_pol':vmin_pol, 'vmax_pol':vmax_pol, 'cmap_pol':cmap_pol\n",
    "        }\n",
    "\n",
    "core.build_animation(cdict)"
   ]
  },
  {
   "cell_type": "code",
   "execution_count": null,
   "metadata": {},
   "outputs": [],
   "source": []
  }
 ],
 "metadata": {
  "kernelspec": {
   "display_name": "Python 3",
   "language": "python",
   "name": "python3"
  },
  "language_info": {
   "codemirror_mode": {
    "name": "ipython",
    "version": 3
   },
   "file_extension": ".py",
   "mimetype": "text/x-python",
   "name": "python",
   "nbconvert_exporter": "python",
   "pygments_lexer": "ipython3",
   "version": "3.8.2"
  }
 },
 "nbformat": 4,
 "nbformat_minor": 4
}
