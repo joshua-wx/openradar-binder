{
 "cells": [
  {
   "cell_type": "markdown",
   "metadata": {},
   "source": [
    "### Openradar.io Historical Image Generator\n",
    "\n",
    "Please follow these steps to running this script\n",
    "\n",
    "1. Edit the configuration below. Stick to the basic options if you're unsure of the rest\n",
    "1. From the top menus select: 'Cell' -> 'Run All'\n",
    "1. A download link will print at the bottom of this notebook when the images are ready"
   ]
  },
  {
   "cell_type": "code",
   "execution_count": 3,
   "metadata": {},
   "outputs": [],
   "source": [
    "# BASIC CONFIGURATION\n",
    "rid   = '50'         # radar identification number (leading zero needed for single digits), string\n",
    "rdate = '2014/11/27' # date to start the image generation (format: YYYY/MM/DD), string\n",
    "rtime = '15:00'      # time to start the image generation (format: HH:MM), string\n",
    "rdur  = 0.5            # number of hours from start date/time for image generation (MUST NOT EXTEND TO THE NEXT DAY), integer\n",
    "prng  = 150          # number of kilometers from the radar site to plot, integer\n",
    "field = 'reflectivity'       # product to plot. Reflectivity = 'reflectivity', Doppler Velocity = 'velocity'\n",
    "                             # (Others/Polarimetric:differential_reflectivity, cross_correlation_ratio, specific_differential_phase, differential_phase, spectrum_width), string\n",
    "# MAP CONFIGURATION\n",
    "hide_place_names = [''] #list of placenames you wish to hide from the map (they are auto generated), list of string\n",
    "nice_radar_name = 'Marburg' #name of radar to use for title, string\n",
    "nice_colorbar_name = field #name to use for colorbar\n",
    "range_ring_list = [50, 100] #list of range ring disances from the radar site (km), list of numbers\n",
    "\n",
    "# ADVANCED CONFIGURATION\n",
    "tilt     = 1                      # PPI index in volume to plot, first/lowest PPI is number 0, integer\n",
    "# ADVANCED CONFIGURATION - Reflectivity\n",
    "vmin_ref = 20                     # minimum of colourmap (values less than will be removed), integer\n",
    "vmax_ref = 65                     # maximum of colormap (values greater than will be removed), integer\n",
    "cmap_ref = 'pyart_HomeyerRainbow' # colormap to use. Another option is 'pyart_NWSRef' for more see https://arm-doe.github.io/pyart/API/generated/pyart.graph.html, string\n",
    "# ADVANCED CONFIGURATION - Doppler Velocity\n",
    "vmin_vel =-26                     # minimum of colormap, integer\n",
    "vmax_vel = 26                     # maximum of colormap, integer\n",
    "cmap_vel = 'pyart_BuDRd18'        # colormap to use, string\n",
    "# ADVANCED CONFIGURATION - Other/Polarimetric\n",
    "vmin_pol = -1                     # minimum of colormap, integer\n",
    "vmax_pol = 5                      # maximum of colormap, integer\n",
    "cmap_pol = 'pyart_HomeyerRainbow' # olormap to use, string"
   ]
  },
  {
   "cell_type": "code",
   "execution_count": 4,
   "metadata": {},
   "outputs": [
    {
     "name": "stderr",
     "output_type": "stream",
     "text": [
      "  0%|          | 0/3 [00:00<?, ?it/s]"
     ]
    },
    {
     "name": "stdout",
     "output_type": "stream",
     "text": [
      "File already downloaded: http://dapds00.nci.org.au/thredds/fileServer/rq0/odim_pvol/50/2014/vol/50_20141127.pvol.zip\n",
      "Generating Images\n"
     ]
    },
    {
     "name": "stderr",
     "output_type": "stream",
     "text": [
      "100%|██████████| 3/3 [00:07<00:00,  2.65s/it]\n"
     ]
    },
    {
     "ename": "FileNotFoundError",
     "evalue": "[Errno 2] No such file or directory: './images/50_2014-11-27.image_request.03-04-2020_17:30:02.zip'",
     "output_type": "error",
     "traceback": [
      "\u001b[0;31m---------------------------------------------------------------------------\u001b[0m",
      "\u001b[0;31mFileNotFoundError\u001b[0m                         Traceback (most recent call last)",
      "\u001b[0;32m<ipython-input-4-25dcfd8364e3>\u001b[0m in \u001b[0;36m<module>\u001b[0;34m\u001b[0m\n\u001b[1;32m     10\u001b[0m         }\n\u001b[1;32m     11\u001b[0m \u001b[0;34m\u001b[0m\u001b[0m\n\u001b[0;32m---> 12\u001b[0;31m \u001b[0mcore\u001b[0m\u001b[0;34m.\u001b[0m\u001b[0mbuild_animation\u001b[0m\u001b[0;34m(\u001b[0m\u001b[0mcdict\u001b[0m\u001b[0;34m)\u001b[0m\u001b[0;34m\u001b[0m\u001b[0;34m\u001b[0m\u001b[0m\n\u001b[0m",
      "\u001b[0;32m~/dev/openradar-binder/core.py\u001b[0m in \u001b[0;36mbuild_animation\u001b[0;34m(cdict)\u001b[0m\n\u001b[1;32m    177\u001b[0m \u001b[0;34m\u001b[0m\u001b[0m\n\u001b[1;32m    178\u001b[0m     \u001b[0;31m#zip files and move to local directory\u001b[0m\u001b[0;34m\u001b[0m\u001b[0;34m\u001b[0m\u001b[0;34m\u001b[0m\u001b[0m\n\u001b[0;32m--> 179\u001b[0;31m     \u001b[0mnow\u001b[0m \u001b[0;34m=\u001b[0m \u001b[0mdatetime\u001b[0m\u001b[0;34m.\u001b[0m\u001b[0mnow\u001b[0m\u001b[0;34m(\u001b[0m\u001b[0;34m)\u001b[0m\u001b[0;34m\u001b[0m\u001b[0;34m\u001b[0m\u001b[0m\n\u001b[0m\u001b[1;32m    180\u001b[0m     \u001b[0mimg_zip_fn\u001b[0m \u001b[0;34m=\u001b[0m \u001b[0mradar_id_str\u001b[0m \u001b[0;34m+\u001b[0m \u001b[0;34m'_'\u001b[0m \u001b[0;34m+\u001b[0m \u001b[0mstart_dt\u001b[0m\u001b[0;34m.\u001b[0m\u001b[0mstrftime\u001b[0m\u001b[0;34m(\u001b[0m\u001b[0;34m'%Y-%m-%d'\u001b[0m\u001b[0;34m)\u001b[0m \u001b[0;34m+\u001b[0m \u001b[0;34m'.image_request.'\u001b[0m \u001b[0;34m+\u001b[0m \u001b[0mnow\u001b[0m\u001b[0;34m.\u001b[0m\u001b[0mstrftime\u001b[0m\u001b[0;34m(\u001b[0m\u001b[0;34m\"%d-%m-%Y_%H:%M:%S\"\u001b[0m\u001b[0;34m)\u001b[0m \u001b[0;34m+\u001b[0m \u001b[0;34m'.zip'\u001b[0m\u001b[0;34m\u001b[0m\u001b[0;34m\u001b[0m\u001b[0m\n\u001b[1;32m    181\u001b[0m     \u001b[0mimg_zip_ffn\u001b[0m \u001b[0;34m=\u001b[0m \u001b[0;34m'./images/'\u001b[0m \u001b[0;34m+\u001b[0m \u001b[0mimg_zip_fn\u001b[0m\u001b[0;34m\u001b[0m\u001b[0;34m\u001b[0m\u001b[0m\n",
      "\u001b[0;32m~/miniconda3/envs/radar-dev/lib/python3.8/zipfile.py\u001b[0m in \u001b[0;36m__init__\u001b[0;34m(self, file, mode, compression, allowZip64, compresslevel, strict_timestamps)\u001b[0m\n\u001b[1;32m   1249\u001b[0m             \u001b[0;32mwhile\u001b[0m \u001b[0;32mTrue\u001b[0m\u001b[0;34m:\u001b[0m\u001b[0;34m\u001b[0m\u001b[0;34m\u001b[0m\u001b[0m\n\u001b[1;32m   1250\u001b[0m                 \u001b[0;32mtry\u001b[0m\u001b[0;34m:\u001b[0m\u001b[0;34m\u001b[0m\u001b[0;34m\u001b[0m\u001b[0m\n\u001b[0;32m-> 1251\u001b[0;31m                     \u001b[0mself\u001b[0m\u001b[0;34m.\u001b[0m\u001b[0mfp\u001b[0m \u001b[0;34m=\u001b[0m \u001b[0mio\u001b[0m\u001b[0;34m.\u001b[0m\u001b[0mopen\u001b[0m\u001b[0;34m(\u001b[0m\u001b[0mfile\u001b[0m\u001b[0;34m,\u001b[0m \u001b[0mfilemode\u001b[0m\u001b[0;34m)\u001b[0m\u001b[0;34m\u001b[0m\u001b[0;34m\u001b[0m\u001b[0m\n\u001b[0m\u001b[1;32m   1252\u001b[0m                 \u001b[0;32mexcept\u001b[0m \u001b[0mOSError\u001b[0m\u001b[0;34m:\u001b[0m\u001b[0;34m\u001b[0m\u001b[0;34m\u001b[0m\u001b[0m\n\u001b[1;32m   1253\u001b[0m                     \u001b[0;32mif\u001b[0m \u001b[0mfilemode\u001b[0m \u001b[0;32min\u001b[0m \u001b[0mmodeDict\u001b[0m\u001b[0;34m:\u001b[0m\u001b[0;34m\u001b[0m\u001b[0;34m\u001b[0m\u001b[0m\n",
      "\u001b[0;31mFileNotFoundError\u001b[0m: [Errno 2] No such file or directory: './images/50_2014-11-27.image_request.03-04-2020_17:30:02.zip'"
     ]
    }
   ],
   "source": [
    "import core\n",
    "\n",
    "cdict = {\n",
    "    'rid':rid, 'rdate':rdate, 'rtime':rtime, 'rdur':rdur, 'prng':prng, 'field':field,\n",
    "    'hide_place_names':hide_place_names,'nice_radar_name':nice_radar_name, 'range_ring_list':range_ring_list,\n",
    "    'tilt':tilt,\n",
    "    'vmin_ref':vmin_ref, 'vmax_ref':vmax_ref, 'cmap_ref':cmap_ref,\n",
    "    'vmin_vel':vmin_vel, 'vmax_vel':vmax_vel, 'cmap_vel':cmap_vel,\n",
    "    'vmin_pol':vmin_pol, 'vmax_pol':vmax_pol, 'cmap_pol':cmap_pol\n",
    "        }\n",
    "\n",
    "core.build_animation(cdict)"
   ]
  },
  {
   "cell_type": "code",
   "execution_count": null,
   "metadata": {},
   "outputs": [],
   "source": []
  }
 ],
 "metadata": {
  "kernelspec": {
   "display_name": "Python 3",
   "language": "python",
   "name": "python3"
  },
  "language_info": {
   "codemirror_mode": {
    "name": "ipython",
    "version": 3
   },
   "file_extension": ".py",
   "mimetype": "text/x-python",
   "name": "python",
   "nbconvert_exporter": "python",
   "pygments_lexer": "ipython3",
   "version": "3.8.2"
  }
 },
 "nbformat": 4,
 "nbformat_minor": 4
}
